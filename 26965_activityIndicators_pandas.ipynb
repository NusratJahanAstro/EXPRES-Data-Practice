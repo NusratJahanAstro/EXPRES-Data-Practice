{
 "cells": [
  {
   "cell_type": "code",
   "execution_count": 43,
   "id": "460a2a2a",
   "metadata": {},
   "outputs": [],
   "source": [
    "import numpy as np\n",
    "import matplotlib.pyplot as plt\n",
    "import pandas as pd\n",
    "from scipy.stats import pearsonr"
   ]
  },
  {
   "cell_type": "code",
   "execution_count": 44,
   "id": "f57e87f7",
   "metadata": {},
   "outputs": [],
   "source": [
    "file_name = './26965_activity.csv'"
   ]
  },
  {
   "cell_type": "code",
   "execution_count": 45,
   "id": "5cda9508",
   "metadata": {},
   "outputs": [],
   "source": [
    "df = pd.read_csv(file_name)"
   ]
  },
  {
   "cell_type": "code",
   "execution_count": 46,
   "id": "0e5a565d",
   "metadata": {},
   "outputs": [
    {
     "data": {
      "text/html": [
       "<div>\n",
       "<style scoped>\n",
       "    .dataframe tbody tr th:only-of-type {\n",
       "        vertical-align: middle;\n",
       "    }\n",
       "\n",
       "    .dataframe tbody tr th {\n",
       "        vertical-align: top;\n",
       "    }\n",
       "\n",
       "    .dataframe thead th {\n",
       "        text-align: right;\n",
       "    }\n",
       "</style>\n",
       "<table border=\"1\" class=\"dataframe\">\n",
       "  <thead>\n",
       "    <tr style=\"text-align: right;\">\n",
       "      <th></th>\n",
       "      <th>File</th>\n",
       "      <th>Time [MJD]</th>\n",
       "      <th>Epoch</th>\n",
       "      <th>SNR</th>\n",
       "      <th>CBC RV [m/s]</th>\n",
       "      <th>CBC RV Err. [m/s]</th>\n",
       "      <th>CCF RV [m/s]</th>\n",
       "      <th>CCF RV Err. [m/s]</th>\n",
       "      <th>S Value</th>\n",
       "      <th>H-alpha Emission</th>\n",
       "      <th>H-alpha Equiv. Width [A]</th>\n",
       "      <th>CCF FWHM [m/s]</th>\n",
       "      <th>CCF FWHM Err. [m/s]</th>\n",
       "      <th>BIS [m/s]</th>\n",
       "      <th>V_span [m/s]</th>\n",
       "      <th>Bi-Gaussian [m/s]</th>\n",
       "      <th>Skew Normal</th>\n",
       "      <th>Date Generated</th>\n",
       "    </tr>\n",
       "  </thead>\n",
       "  <tbody>\n",
       "    <tr>\n",
       "      <th>0</th>\n",
       "      <td>26965_190820.1115.fits</td>\n",
       "      <td>58715.487206</td>\n",
       "      <td>5</td>\n",
       "      <td>201.054719</td>\n",
       "      <td>0.808395</td>\n",
       "      <td>0.453045</td>\n",
       "      <td>-42339.29522</td>\n",
       "      <td>0.26474</td>\n",
       "      <td>0.218595</td>\n",
       "      <td>0.214439</td>\n",
       "      <td>1.560971</td>\n",
       "      <td>6591.483264</td>\n",
       "      <td>27.640611</td>\n",
       "      <td>-71.589982</td>\n",
       "      <td>-61.367083</td>\n",
       "      <td>0.748646</td>\n",
       "      <td>-0.942206</td>\n",
       "      <td>2022-06-14T19:00:33.604</td>\n",
       "    </tr>\n",
       "    <tr>\n",
       "      <th>1</th>\n",
       "      <td>26965_190824.1349.fits</td>\n",
       "      <td>58719.469213</td>\n",
       "      <td>5</td>\n",
       "      <td>207.624661</td>\n",
       "      <td>-1.044521</td>\n",
       "      <td>0.379194</td>\n",
       "      <td>-42341.19811</td>\n",
       "      <td>0.25551</td>\n",
       "      <td>0.202251</td>\n",
       "      <td>0.213199</td>\n",
       "      <td>1.561505</td>\n",
       "      <td>6603.370528</td>\n",
       "      <td>27.726042</td>\n",
       "      <td>-67.929450</td>\n",
       "      <td>-58.783606</td>\n",
       "      <td>0.581876</td>\n",
       "      <td>-0.931480</td>\n",
       "      <td>2022-06-14T19:00:36.926</td>\n",
       "    </tr>\n",
       "    <tr>\n",
       "      <th>2</th>\n",
       "      <td>26965_190824.1350.fits</td>\n",
       "      <td>58719.471884</td>\n",
       "      <td>5</td>\n",
       "      <td>203.504300</td>\n",
       "      <td>-2.870517</td>\n",
       "      <td>0.421004</td>\n",
       "      <td>-42342.12831</td>\n",
       "      <td>0.26022</td>\n",
       "      <td>0.202251</td>\n",
       "      <td>0.215830</td>\n",
       "      <td>1.547990</td>\n",
       "      <td>6601.249197</td>\n",
       "      <td>27.761682</td>\n",
       "      <td>-69.280474</td>\n",
       "      <td>-59.803878</td>\n",
       "      <td>0.634615</td>\n",
       "      <td>-0.006403</td>\n",
       "      <td>2022-06-14T19:00:39.936</td>\n",
       "    </tr>\n",
       "    <tr>\n",
       "      <th>3</th>\n",
       "      <td>26965_190825.1237.fits</td>\n",
       "      <td>58720.497347</td>\n",
       "      <td>5</td>\n",
       "      <td>208.827680</td>\n",
       "      <td>-1.894605</td>\n",
       "      <td>0.420891</td>\n",
       "      <td>-42342.21946</td>\n",
       "      <td>0.26869</td>\n",
       "      <td>NaN</td>\n",
       "      <td>0.215981</td>\n",
       "      <td>1.546532</td>\n",
       "      <td>6607.213779</td>\n",
       "      <td>28.281000</td>\n",
       "      <td>-66.496215</td>\n",
       "      <td>-58.325077</td>\n",
       "      <td>0.457273</td>\n",
       "      <td>0.001268</td>\n",
       "      <td>2022-06-14T19:00:42.910</td>\n",
       "    </tr>\n",
       "    <tr>\n",
       "      <th>4</th>\n",
       "      <td>26965_191008.1133.fits</td>\n",
       "      <td>58764.403023</td>\n",
       "      <td>5</td>\n",
       "      <td>214.758003</td>\n",
       "      <td>0.839369</td>\n",
       "      <td>0.341155</td>\n",
       "      <td>-42339.09758</td>\n",
       "      <td>0.26467</td>\n",
       "      <td>NaN</td>\n",
       "      <td>0.212081</td>\n",
       "      <td>1.564194</td>\n",
       "      <td>6603.098832</td>\n",
       "      <td>28.844911</td>\n",
       "      <td>-70.267507</td>\n",
       "      <td>-61.663367</td>\n",
       "      <td>0.722900</td>\n",
       "      <td>-0.948795</td>\n",
       "      <td>2022-06-14T19:00:46.100</td>\n",
       "    </tr>\n",
       "  </tbody>\n",
       "</table>\n",
       "</div>"
      ],
      "text/plain": [
       "                     File    Time [MJD]  Epoch         SNR  CBC RV [m/s]  \\\n",
       "0  26965_190820.1115.fits  58715.487206      5  201.054719      0.808395   \n",
       "1  26965_190824.1349.fits  58719.469213      5  207.624661     -1.044521   \n",
       "2  26965_190824.1350.fits  58719.471884      5  203.504300     -2.870517   \n",
       "3  26965_190825.1237.fits  58720.497347      5  208.827680     -1.894605   \n",
       "4  26965_191008.1133.fits  58764.403023      5  214.758003      0.839369   \n",
       "\n",
       "   CBC RV Err. [m/s]  CCF RV [m/s]  CCF RV Err. [m/s]   S Value  \\\n",
       "0           0.453045  -42339.29522            0.26474  0.218595   \n",
       "1           0.379194  -42341.19811            0.25551  0.202251   \n",
       "2           0.421004  -42342.12831            0.26022  0.202251   \n",
       "3           0.420891  -42342.21946            0.26869       NaN   \n",
       "4           0.341155  -42339.09758            0.26467       NaN   \n",
       "\n",
       "   H-alpha Emission  H-alpha Equiv. Width [A]  CCF FWHM [m/s]  \\\n",
       "0          0.214439                  1.560971     6591.483264   \n",
       "1          0.213199                  1.561505     6603.370528   \n",
       "2          0.215830                  1.547990     6601.249197   \n",
       "3          0.215981                  1.546532     6607.213779   \n",
       "4          0.212081                  1.564194     6603.098832   \n",
       "\n",
       "   CCF FWHM Err. [m/s]  BIS [m/s]  V_span [m/s]  Bi-Gaussian [m/s]  \\\n",
       "0            27.640611 -71.589982    -61.367083           0.748646   \n",
       "1            27.726042 -67.929450    -58.783606           0.581876   \n",
       "2            27.761682 -69.280474    -59.803878           0.634615   \n",
       "3            28.281000 -66.496215    -58.325077           0.457273   \n",
       "4            28.844911 -70.267507    -61.663367           0.722900   \n",
       "\n",
       "   Skew Normal           Date Generated  \n",
       "0    -0.942206  2022-06-14T19:00:33.604  \n",
       "1    -0.931480  2022-06-14T19:00:36.926  \n",
       "2    -0.006403  2022-06-14T19:00:39.936  \n",
       "3     0.001268  2022-06-14T19:00:42.910  \n",
       "4    -0.948795  2022-06-14T19:00:46.100  "
      ]
     },
     "execution_count": 46,
     "metadata": {},
     "output_type": "execute_result"
    }
   ],
   "source": [
    "df.head()"
   ]
  },
  {
   "cell_type": "code",
   "execution_count": 47,
   "id": "4e9b0ebd",
   "metadata": {},
   "outputs": [
    {
     "data": {
      "text/plain": [
       "Index(['File', 'Time [MJD]', 'Epoch', 'SNR', 'CBC RV [m/s]',\n",
       "       'CBC RV Err. [m/s]', 'CCF RV [m/s]', 'CCF RV Err. [m/s]', 'S Value',\n",
       "       'H-alpha Emission', 'H-alpha Equiv. Width [A]', 'CCF FWHM [m/s]',\n",
       "       'CCF FWHM Err. [m/s]', 'BIS [m/s]', 'V_span [m/s]', 'Bi-Gaussian [m/s]',\n",
       "       'Skew Normal', 'Date Generated'],\n",
       "      dtype='object')"
      ]
     },
     "execution_count": 47,
     "metadata": {},
     "output_type": "execute_result"
    }
   ],
   "source": [
    "df.columns"
   ]
  },
  {
   "cell_type": "code",
   "execution_count": 48,
   "id": "b78a616d",
   "metadata": {},
   "outputs": [],
   "source": [
    "time = df['Time [MJD]']"
   ]
  },
  {
   "cell_type": "code",
   "execution_count": 49,
   "id": "d7ace682",
   "metadata": {},
   "outputs": [],
   "source": [
    "velocity = df['CBC RV [m/s]']"
   ]
  },
  {
   "cell_type": "code",
   "execution_count": 50,
   "id": "877bc74a",
   "metadata": {},
   "outputs": [
    {
     "data": {
      "image/png": "[encoded data removed]",
      "text/plain": [
       "<Figure size 432x288 with 1 Axes>"
      ]
     },
     "metadata": {
      "needs_background": "light"
     },
     "output_type": "display_data"
    }
   ],
   "source": [
    "#Q1\n",
    "\n",
    "plt.scatter(time, velocity)\n",
    "\n",
    "#plt.title('26965 Activity Indicators')\n",
    "plt.xlabel('Time (s)')\n",
    "plt.ylabel('Radial Velocity (m/s)')\n",
    "plt.show()"
   ]
  },
  {
   "cell_type": "code",
   "execution_count": 51,
   "id": "4450e3d3",
   "metadata": {},
   "outputs": [],
   "source": [
    "actind = df['S Value']"
   ]
  },
  {
   "cell_type": "code",
   "execution_count": 52,
   "id": "6f165de5",
   "metadata": {},
   "outputs": [
    {
     "data": {
      "image/png": "[encoded data removed]",
      "text/plain": [
       "<Figure size 432x288 with 1 Axes>"
      ]
     },
     "metadata": {
      "needs_background": "light"
     },
     "output_type": "display_data"
    }
   ],
   "source": [
    "#Q2\n",
    "\n",
    "plt.scatter(time, actind)\n",
    "\n",
    "plt.title('26965 Activity Indicators vs. Time')\n",
    "plt.xlabel('Time (s)')\n",
    "plt.ylabel('S Value')\n",
    "plt.show()"
   ]
  },
  {
   "cell_type": "code",
   "execution_count": 53,
   "id": "655358db",
   "metadata": {},
   "outputs": [
    {
     "data": {
      "image/png": "[encoded data removed]",
      "text/plain": [
       "<Figure size 432x288 with 1 Axes>"
      ]
     },
     "metadata": {
      "needs_background": "light"
     },
     "output_type": "display_data"
    }
   ],
   "source": [
    "#Q3\n",
    "\n",
    "plt.scatter(actind, velocity)\n",
    "\n",
    "plt.xlabel('S Value')\n",
    "plt.ylabel('Radial Velocity')\n",
    "plt.show()"
   ]
  },
  {
   "cell_type": "code",
   "execution_count": 54,
   "id": "046790e0",
   "metadata": {},
   "outputs": [
    {
     "name": "stdout",
     "output_type": "stream",
     "text": [
      "0.16007366082455365\n"
     ]
    }
   ],
   "source": [
    "nan_mask = np.logical_and(np.isfinite(df['CBC RV [m/s]']),np.isfinite(df['CCF FWHM [m/s]']))\n",
    "pcc, pcc_pval = pearsonr(df['CBC RV [m/s]'][nan_mask],df['CCF FWHM [m/s]'][nan_mask])\n",
    "print(pcc)"
   ]
  }
 ],
 "metadata": {
  "kernelspec": {
   "display_name": "Python 3 (ipykernel)",
   "language": "python",
   "name": "python3"
  },
  "language_info": {
   "codemirror_mode": {
    "name": "ipython",
    "version": 3
   },
   "file_extension": ".py",
   "mimetype": "text/x-python",
   "name": "python",
   "nbconvert_exporter": "python",
   "pygments_lexer": "ipython3",
   "version": "3.9.12"
  }
 },
 "nbformat": 4,
 "nbformat_minor": 5
}
